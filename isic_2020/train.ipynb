{
 "cells": [
  {
   "cell_type": "code",
   "execution_count": 1,
   "id": "94f64604-5684-4470-ad1d-a4aceb16764e",
   "metadata": {},
   "outputs": [],
   "source": [
    "import os\n",
    "import warnings\n",
    "import joblib\n",
    "import matplotlib\n",
    "import pandas as pd\n",
    "import seaborn as sns\n",
    "import torch\n",
    "import ttach as tta\n",
    "import optuna\n",
    "import pytorch_lightning as pl\n",
    "import matplotlib\n",
    "import matplotlib.pyplot as plt\n",
    "import seaborn as sns\n",
    "from sklearn import metrics\n",
    "from tqdm.auto import tqdm\n",
    "from torch.nn import functional as F\n",
    "from models import *\n",
    "from resnest101 import *\n",
    "from se_resnext101 import *\n",
    "from efficientnetb3 import *\n",
    "from efficientnetb4 import *\n",
    "from efficientnetb5 import *\n",
    "from efficientnetb6 import *\n",
    "from efficientnetb7 import *\n",
    "from config import *\n",
    "from util import *\n",
    "sns.set()\n",
    "pd.set_option('display.max_columns', 500)\n",
    "pd.set_option('display.max_rows', 500)\n",
    "rc = {\"figure.figsize\" : (9, 7),\n",
    "      \"axes.spines.left\" : False,\n",
    "      \"axes.spines.right\" : False,\n",
    "      \"axes.spines.bottom\" : False,\n",
    "      \"axes.spines.top\" : False,\n",
    "      \"xtick.bottom\" : True,\n",
    "      \"xtick.labelbottom\" : True,\n",
    "      \"ytick.labelleft\" : True,\n",
    "      \"ytick.left\" : True,\n",
    "      \"axes.grid\" : False}\n",
    "plt.rcParams.update(rc)\n",
    "\n",
    "\n",
    "def get_model(model_name, params):\n",
    "    if model_name == 'se_resnext101':\n",
    "        model = SE_ResNext101(data_dir=data_dir, weighted_sampling=True, batch_size=params['batch_size'], learning_rate=params['learning_rate'])\n",
    "        return model\n",
    "    if model_name == 'resnest101':\n",
    "        model = ResNest101(data_dir=data_dir, weighted_sampling=True, batch_size=params['batch_size'], learning_rate=params['learning_rate'])\n",
    "        return model\n",
    "    if model_name == 'efficientnetb3':\n",
    "        model = EfficientNetB3(data_dir=data_dir, weighted_sampling=True, batch_size=params['batch_size'], learning_rate=params['learning_rate'])\n",
    "        return model\n",
    "    if 'efficientnetb4' in model_name:\n",
    "        model = EfficientNetB4(data_dir=data_dir, weighted_sampling=True, batch_size=params['batch_size'], learning_rate=params['learning_rate'])\n",
    "        return model\n",
    "    if 'efficientnetb5' in model_name:\n",
    "        model = EfficientNetB5(data_dir=data_dir, weighted_sampling=True, batch_size=params['batch_size'], learning_rate=params['learning_rate'])\n",
    "        return model\n",
    "    if 'efficientnetb6' in model_name:\n",
    "        model = EfficientNetB6(data_dir=data_dir, weighted_sampling=True, batch_size=params['batch_size'], learning_rate=params['learning_rate'])\n",
    "        return model\n",
    "    if 'efficientnetb7' in model_name:\n",
    "        model = EfficientNetB7(data_dir=data_dir, weighted_sampling=True, batch_size=params['batch_size'], learning_rate=params['learning_rate'])\n",
    "        return model"
   ]
  },
  {
   "cell_type": "code",
   "execution_count": null,
   "id": "47ff9784-e87b-473c-aeb8-d8815b7acdd1",
   "metadata": {},
   "outputs": [],
   "source": []
  },
  {
   "cell_type": "code",
   "execution_count": null,
   "id": "f4f3117e-c2a5-46ef-be16-918241586da5",
   "metadata": {},
   "outputs": [
    {
     "data": {
      "application/vnd.jupyter.widget-view+json": {
       "model_id": "f166c8a95e954df0aa6b42f78f056150",
       "version_major": 2,
       "version_minor": 0
      },
      "text/plain": [
       "  0%|          | 0/1 [00:00<?, ?it/s]"
      ]
     },
     "metadata": {},
     "output_type": "display_data"
    },
    {
     "name": "stderr",
     "output_type": "stream",
     "text": [
      "\u001b[32m[I 2023-07-25 16:03:56,570]\u001b[0m A new study created in memory with name: no-name-1baac5d3-15ed-44bf-abf9-7527e14c4c89\u001b[0m\n"
     ]
    },
    {
     "name": "stdout",
     "output_type": "stream",
     "text": [
      "====EFFICIENTNETB3====\n",
      "Loaded pretrained weights for efficientnet-b3\n"
     ]
    },
    {
     "name": "stderr",
     "output_type": "stream",
     "text": [
      "GPU available: True, used: True\n",
      "TPU available: False, using: 0 TPU cores\n",
      "IPU available: False, using: 0 IPUs\n",
      "LOCAL_RANK: 0 - CUDA_VISIBLE_DEVICES: [0,1,2,3]\n",
      "\n",
      "  | Name       | Type         | Params\n",
      "--------------------------------------------\n",
      "0 | loss       | BCELoss      | 0     \n",
      "1 | base_model | EfficientNet | 10.7 M\n",
      "2 | sigm       | Sigmoid      | 0     \n",
      "--------------------------------------------\n",
      "10.7 M    Trainable params\n",
      "0         Non-trainable params\n",
      "10.7 M    Total params\n",
      "42.791    Total estimated model params size (MB)\n"
     ]
    },
    {
     "data": {
      "application/vnd.jupyter.widget-view+json": {
       "model_id": "",
       "version_major": 2,
       "version_minor": 0
      },
      "text/plain": [
       "Validation sanity check: 0it [00:00, ?it/s]"
      ]
     },
     "metadata": {},
     "output_type": "display_data"
    },
    {
     "name": "stderr",
     "output_type": "stream",
     "text": [
      "/home/caduser/anaconda3/envs/overlap/lib/python3.9/site-packages/pytorch_lightning/trainer/data_loading.py:132: UserWarning: The dataloader, val_dataloader 0, does not have many workers which may be a bottleneck. Consider increasing the value of the `num_workers` argument` (try 64 which is the number of cpus on this machine) in the `DataLoader` init to improve performance.\n",
      "  rank_zero_warn(\n",
      "/home/caduser/anaconda3/envs/overlap/lib/python3.9/site-packages/pytorch_lightning/trainer/data_loading.py:132: UserWarning: The dataloader, train_dataloader, does not have many workers which may be a bottleneck. Consider increasing the value of the `num_workers` argument` (try 64 which is the number of cpus on this machine) in the `DataLoader` init to improve performance.\n",
      "  rank_zero_warn(\n"
     ]
    },
    {
     "data": {
      "application/vnd.jupyter.widget-view+json": {
       "model_id": "b5996cf06362480c94c8463806b28127",
       "version_major": 2,
       "version_minor": 0
      },
      "text/plain": [
       "Training: 0it [00:00, ?it/s]"
      ]
     },
     "metadata": {},
     "output_type": "display_data"
    }
   ],
   "source": [
    "%%time\n",
    "\n",
    "model_names = ['efficientnetb3', 'efficientnetb4.1', 'efficientnetb4.2', 'efficientnetb4.3', 'efficientnetb4.4', 'efficientnetb4.5', \n",
    "               'efficientnetb5.1', 'efficientnetb5.2', 'efficientnetb5.3', 'efficientnetb5.4', 'efficientnetb6.1', 'efficientnetb6.1', \n",
    "               'efficientnetb6.2', 'efficientnetb6.3', 'efficientnetb7.1', 'efficientnetb7.2', 'efficientnetb7.3', 'resnest101', 'se_resnext101']\n",
    "\n",
    "model_names = ['efficientnetb3']\n",
    "\n",
    "for model_name in tqdm(model_names):\n",
    "    \n",
    "    print(f\"===={model_name.upper()}====\")\n",
    "\n",
    "    best_accuracy = 0\n",
    "\n",
    "    def objective(trial):\n",
    "        torch.cuda.empty_cache()\n",
    "        \n",
    "        params = {\n",
    "            'learning_rate': trial.suggest_loguniform('learning_rate', 1e-4, 3e-4), \n",
    "            'batch_size': trial.suggest_categorical('batch_size', [16, 32])\n",
    "        }\n",
    "        \n",
    "        #model = get_model(model_name, params)\n",
    "        model = EfficientNetB3(data_dir=data_dir, weighted_sampling=True, batch_size=params['batch_size'], learning_rate=params['learning_rate'])\n",
    "\n",
    "        trainer = pl.Trainer(max_epochs=15, devices=1, accelerator=\"gpu\", deterministic=True, enable_checkpointing=False, logger=False)\n",
    "        trainer.fit(model)\n",
    "\n",
    "        result_val = get_dx_predictions(trainer, model, split='val', threshold=0.5)\n",
    "        threshold = find_optimal_cutoff(result_val['true'], result_val['score'])\n",
    "        #display_scores(result_val)\n",
    "        result_test = get_dx_predictions(trainer, model, split='test', threshold=threshold)\n",
    "        #display_scores(result_test)\n",
    "\n",
    "        val_accuracy = metrics.balanced_accuracy_score(result_val['true'], result_val['pred'])\n",
    "        test_accuracy = metrics.balanced_accuracy_score(result_test['true'], result_test['pred'])\n",
    "\n",
    "        if val_accuracy >= best_accuracy:\n",
    "            result_test.to_csv(os.path.join('results', model_name+'.csv'), index=False)\n",
    "\n",
    "        trial.set_user_attr(\"val_accuracy\", val_accuracy)\n",
    "        trial.set_user_attr(\"test_accuracy\", test_accuracy)\n",
    "        print('TRIAL FINISHED', trial.number)\n",
    "        return val_accuracy\n",
    "\n",
    "    study = optuna.create_study(direction=\"maximize\", sampler=optuna.samplers.TPESampler(seed=seed))\n",
    "    study.optimize(objective, n_trials=5)\n",
    "    #joblib.dump(study, os.path.join('optuna_studies', model_name+'.pkl'))"
   ]
  },
  {
   "cell_type": "code",
   "execution_count": null,
   "id": "0fc596cf-54eb-431d-bd13-bbf49b25f50f",
   "metadata": {},
   "outputs": [],
   "source": [
    "study.best_trial"
   ]
  },
  {
   "cell_type": "code",
   "execution_count": null,
   "id": "47e03dad-5201-4eb6-91c7-9a3a4f5a40ef",
   "metadata": {},
   "outputs": [],
   "source": []
  },
  {
   "cell_type": "code",
   "execution_count": null,
   "id": "ffe4518e-fb82-476f-8471-ca9f5b7346c1",
   "metadata": {},
   "outputs": [],
   "source": []
  },
  {
   "cell_type": "code",
   "execution_count": null,
   "id": "863e0dbd-6734-494a-a19b-06a1b0d93b87",
   "metadata": {},
   "outputs": [],
   "source": []
  },
  {
   "cell_type": "code",
   "execution_count": 2,
   "id": "0512005c-75e5-4e03-ac26-b2957632ea5a",
   "metadata": {},
   "outputs": [
    {
     "data": {
      "application/vnd.jupyter.widget-view+json": {
       "model_id": "b0032b07775846d496005708f06027ac",
       "version_major": 2,
       "version_minor": 0
      },
      "text/plain": [
       "  0%|          | 0/1 [00:00<?, ?it/s]"
      ]
     },
     "metadata": {},
     "output_type": "display_data"
    },
    {
     "name": "stdout",
     "output_type": "stream",
     "text": [
      "====efficientnetb3====\n",
      "Loaded pretrained weights for efficientnet-b3\n"
     ]
    },
    {
     "name": "stderr",
     "output_type": "stream",
     "text": [
      "GPU available: True, used: True\n",
      "TPU available: False, using: 0 TPU cores\n",
      "IPU available: False, using: 0 IPUs\n",
      "LOCAL_RANK: 0 - CUDA_VISIBLE_DEVICES: [0,1,2,3]\n",
      "\n",
      "  | Name       | Type         | Params\n",
      "--------------------------------------------\n",
      "0 | loss       | BCELoss      | 0     \n",
      "1 | base_model | EfficientNet | 10.7 M\n",
      "2 | sigm       | Sigmoid      | 0     \n",
      "--------------------------------------------\n",
      "10.7 M    Trainable params\n",
      "0         Non-trainable params\n",
      "10.7 M    Total params\n",
      "42.791    Total estimated model params size (MB)\n"
     ]
    },
    {
     "data": {
      "application/vnd.jupyter.widget-view+json": {
       "model_id": "",
       "version_major": 2,
       "version_minor": 0
      },
      "text/plain": [
       "Validation sanity check: 0it [00:00, ?it/s]"
      ]
     },
     "metadata": {},
     "output_type": "display_data"
    },
    {
     "data": {
      "application/vnd.jupyter.widget-view+json": {
       "model_id": "b0f88c3b3053490fa4120a9c012c43ae",
       "version_major": 2,
       "version_minor": 0
      },
      "text/plain": [
       "Training: 0it [00:00, ?it/s]"
      ]
     },
     "metadata": {},
     "output_type": "display_data"
    },
    {
     "data": {
      "application/vnd.jupyter.widget-view+json": {
       "model_id": "",
       "version_major": 2,
       "version_minor": 0
      },
      "text/plain": [
       "Validating: 0it [00:00, ?it/s]"
      ]
     },
     "metadata": {},
     "output_type": "display_data"
    },
    {
     "data": {
      "application/vnd.jupyter.widget-view+json": {
       "model_id": "",
       "version_major": 2,
       "version_minor": 0
      },
      "text/plain": [
       "Validating: 0it [00:00, ?it/s]"
      ]
     },
     "metadata": {},
     "output_type": "display_data"
    },
    {
     "data": {
      "application/vnd.jupyter.widget-view+json": {
       "model_id": "",
       "version_major": 2,
       "version_minor": 0
      },
      "text/plain": [
       "Validating: 0it [00:00, ?it/s]"
      ]
     },
     "metadata": {},
     "output_type": "display_data"
    },
    {
     "data": {
      "application/vnd.jupyter.widget-view+json": {
       "model_id": "",
       "version_major": 2,
       "version_minor": 0
      },
      "text/plain": [
       "Validating: 0it [00:00, ?it/s]"
      ]
     },
     "metadata": {},
     "output_type": "display_data"
    },
    {
     "data": {
      "application/vnd.jupyter.widget-view+json": {
       "model_id": "",
       "version_major": 2,
       "version_minor": 0
      },
      "text/plain": [
       "Validating: 0it [00:00, ?it/s]"
      ]
     },
     "metadata": {},
     "output_type": "display_data"
    },
    {
     "data": {
      "application/vnd.jupyter.widget-view+json": {
       "model_id": "",
       "version_major": 2,
       "version_minor": 0
      },
      "text/plain": [
       "Validating: 0it [00:00, ?it/s]"
      ]
     },
     "metadata": {},
     "output_type": "display_data"
    },
    {
     "data": {
      "application/vnd.jupyter.widget-view+json": {
       "model_id": "",
       "version_major": 2,
       "version_minor": 0
      },
      "text/plain": [
       "Validating: 0it [00:00, ?it/s]"
      ]
     },
     "metadata": {},
     "output_type": "display_data"
    },
    {
     "data": {
      "application/vnd.jupyter.widget-view+json": {
       "model_id": "",
       "version_major": 2,
       "version_minor": 0
      },
      "text/plain": [
       "Validating: 0it [00:00, ?it/s]"
      ]
     },
     "metadata": {},
     "output_type": "display_data"
    },
    {
     "data": {
      "application/vnd.jupyter.widget-view+json": {
       "model_id": "",
       "version_major": 2,
       "version_minor": 0
      },
      "text/plain": [
       "Validating: 0it [00:00, ?it/s]"
      ]
     },
     "metadata": {},
     "output_type": "display_data"
    },
    {
     "data": {
      "application/vnd.jupyter.widget-view+json": {
       "model_id": "",
       "version_major": 2,
       "version_minor": 0
      },
      "text/plain": [
       "Validating: 0it [00:00, ?it/s]"
      ]
     },
     "metadata": {},
     "output_type": "display_data"
    },
    {
     "data": {
      "application/vnd.jupyter.widget-view+json": {
       "model_id": "",
       "version_major": 2,
       "version_minor": 0
      },
      "text/plain": [
       "Validating: 0it [00:00, ?it/s]"
      ]
     },
     "metadata": {},
     "output_type": "display_data"
    },
    {
     "data": {
      "application/vnd.jupyter.widget-view+json": {
       "model_id": "",
       "version_major": 2,
       "version_minor": 0
      },
      "text/plain": [
       "Validating: 0it [00:00, ?it/s]"
      ]
     },
     "metadata": {},
     "output_type": "display_data"
    },
    {
     "data": {
      "application/vnd.jupyter.widget-view+json": {
       "model_id": "",
       "version_major": 2,
       "version_minor": 0
      },
      "text/plain": [
       "Validating: 0it [00:00, ?it/s]"
      ]
     },
     "metadata": {},
     "output_type": "display_data"
    },
    {
     "data": {
      "application/vnd.jupyter.widget-view+json": {
       "model_id": "",
       "version_major": 2,
       "version_minor": 0
      },
      "text/plain": [
       "Validating: 0it [00:00, ?it/s]"
      ]
     },
     "metadata": {},
     "output_type": "display_data"
    },
    {
     "data": {
      "application/vnd.jupyter.widget-view+json": {
       "model_id": "",
       "version_major": 2,
       "version_minor": 0
      },
      "text/plain": [
       "Validating: 0it [00:00, ?it/s]"
      ]
     },
     "metadata": {},
     "output_type": "display_data"
    },
    {
     "name": "stderr",
     "output_type": "stream",
     "text": [
      "LOCAL_RANK: 0 - CUDA_VISIBLE_DEVICES: [0,1,2,3]\n"
     ]
    },
    {
     "data": {
      "application/vnd.jupyter.widget-view+json": {
       "model_id": "76ada8153dad46b7b627f2adc3855701",
       "version_major": 2,
       "version_minor": 0
      },
      "text/plain": [
       "Predicting: 168it [00:00, ?it/s]"
      ]
     },
     "metadata": {},
     "output_type": "display_data"
    },
    {
     "name": "stderr",
     "output_type": "stream",
     "text": [
      "LOCAL_RANK: 0 - CUDA_VISIBLE_DEVICES: [0,1,2,3]\n"
     ]
    },
    {
     "name": "stdout",
     "output_type": "stream",
     "text": [
      "=====\n",
      "AUC: 0.8315278186635267\n",
      "Balanced Acc: 0.7695613776861937\n",
      "Sensitivity: 0.7441860465116279\n",
      "Specificity: 0.7949367088607595\n",
      "=====\n",
      "\n"
     ]
    },
    {
     "data": {
      "application/vnd.jupyter.widget-view+json": {
       "model_id": "185acc241e804afeae1d0737b5a5929d",
       "version_major": 2,
       "version_minor": 0
      },
      "text/plain": [
       "Predicting: 168it [00:00, ?it/s]"
      ]
     },
     "metadata": {},
     "output_type": "display_data"
    },
    {
     "name": "stdout",
     "output_type": "stream",
     "text": [
      "=====\n",
      "AUC: 0.8066000000000001\n",
      "Balanced Acc: 0.74\n",
      "Sensitivity: 0.75\n",
      "Specificity: 0.73\n",
      "=====\n",
      "\n",
      "CPU times: user 4min 58s, sys: 51.5 s, total: 5min 49s\n",
      "Wall time: 6min 14s\n"
     ]
    }
   ],
   "source": [
    "%%time\n",
    "model_names = ['efficientnetb3', 'efficientnetb4.1', 'efficientnetb4.2', 'efficientnetb4.3', 'efficientnetb4.4', 'efficientnetb4.5', \n",
    "               'efficientnetb5.1', 'efficientnetb5.2', 'efficientnetb5.3', 'efficientnetb5.4', 'efficientnetb6.1', 'efficientnetb6.1', \n",
    "               'efficientnetb6.2', 'efficientnetb6.3', 'efficientnetb7.1', 'efficientnetb7.2', 'efficientnetb7.3', 'resnest101', 'se_resnext101', ]\n",
    "\n",
    "model_names = ['efficientnetb3']\n",
    "\n",
    "for model_name in tqdm(model_names):\n",
    "    \n",
    "    print(f\"===={model_name}====\")\n",
    "    \n",
    "    params = {\n",
    "            'learning_rate': 2e-5, \n",
    "            'batch_size': 16\n",
    "    }\n",
    "\n",
    "    model = get_model(model_name, params=params)\n",
    "    trainer = pl.Trainer(max_epochs=15, devices=1, accelerator=\"gpu\", deterministic=True, enable_checkpointing=False, logger=False)\n",
    "    trainer.fit(model)\n",
    "\n",
    "    result_val = get_dx_predictions(trainer, model, split='val', threshold=0.5)\n",
    "    threshold = find_optimal_cutoff(result_val['true'], result_val['score'])\n",
    "    display_scores(result_val)\n",
    "    result_test = get_dx_predictions(trainer, model, split='test', threshold=threshold)\n",
    "    display_scores(result_test)\n",
    "    result_test.to_csv(os.path.join('results', model_name+'.csv'), index=False)"
   ]
  },
  {
   "cell_type": "code",
   "execution_count": null,
   "id": "718c0791-fc0f-4535-9f19-f208939fd6e6",
   "metadata": {},
   "outputs": [],
   "source": []
  },
  {
   "cell_type": "code",
   "execution_count": null,
   "id": "65d6ae69-53a5-4d0f-8aa2-e33d26b68b03",
   "metadata": {},
   "outputs": [],
   "source": []
  },
  {
   "cell_type": "code",
   "execution_count": null,
   "id": "22b2b86d-5121-4250-a94d-aa871584a101",
   "metadata": {},
   "outputs": [],
   "source": []
  },
  {
   "cell_type": "code",
   "execution_count": null,
   "id": "f93dd161-906e-4f9e-8117-3ab964fc12a1",
   "metadata": {},
   "outputs": [],
   "source": []
  },
  {
   "cell_type": "code",
   "execution_count": null,
   "id": "86dc116d-9faa-4043-83c4-e2e35f3b88b4",
   "metadata": {},
   "outputs": [],
   "source": []
  },
  {
   "cell_type": "code",
   "execution_count": null,
   "id": "86483693-5aa0-4661-afac-6bcd238584ac",
   "metadata": {},
   "outputs": [],
   "source": []
  },
  {
   "cell_type": "code",
   "execution_count": null,
   "id": "38f55c68-bc1d-4033-a2e5-92ae8954fc38",
   "metadata": {},
   "outputs": [],
   "source": []
  },
  {
   "cell_type": "code",
   "execution_count": null,
   "id": "e7c11c7d-3464-48c6-a37f-f325906ee307",
   "metadata": {},
   "outputs": [],
   "source": []
  }
 ],
 "metadata": {
  "kernelspec": {
   "display_name": "Python 3 (ipykernel)",
   "language": "python",
   "name": "python3"
  },
  "language_info": {
   "codemirror_mode": {
    "name": "ipython",
    "version": 3
   },
   "file_extension": ".py",
   "mimetype": "text/x-python",
   "name": "python",
   "nbconvert_exporter": "python",
   "pygments_lexer": "ipython3",
   "version": "3.9.9"
  }
 },
 "nbformat": 4,
 "nbformat_minor": 5
}
