{
 "cells": [
  {
   "cell_type": "code",
   "execution_count": 1,
   "id": "e2d83484",
   "metadata": {},
   "outputs": [],
   "source": [
    "from sklearn import metrics\n",
    "from scipy import stats\n",
    "import pandas as pd\n",
    "import numpy as np\n",
    "import os\n",
    "import matplotlib.pyplot as plt\n",
    "import seaborn as sns\n",
    "import numpy as np\n",
    "import scipy.stats\n",
    "sns.set()\n",
    "pd.set_option('display.max_columns', 500)\n",
    "pd.set_option('display.max_rows', 200)\n",
    "sns.set_theme(style='whitegrid')\n",
    "plt.rcParams[\"figure.figsize\"] = (10,10)\n",
    "\n",
    "\n",
    "def format_e(n):\n",
    "    a = '%2e' % n\n",
    "    return a.split('e')[0].rstrip('0').rstrip('.') + 'e' + a.split('e')[1]\n",
    "\n",
    "def mean_confidence_interval(data, confidence=0.95, rounding=4):\n",
    "    a = 1.0 * np.array(data)\n",
    "    n = len(a)\n",
    "    m, se = np.mean(a), scipy.stats.sem(a)\n",
    "    h = se * scipy.stats.t.ppf((1 + confidence) / 2., n-1)\n",
    "    return round(m, rounding), round(m-h, rounding), round(m+h, rounding)\n",
    "\n",
    "def confidence_interval(data, size=10000, func=np.mean):\n",
    "    \"\"\"creates a bootstrap sample, computes replicates and returns replicates array\"\"\"\n",
    "    # Create an empty array to store replicates\n",
    "    bs_replicates = np.empty(size)\n",
    "    \n",
    "    np.random.seed(42)\n",
    "    # Create bootstrap replicates as much as size\n",
    "    for i in range(size):\n",
    "        # Create a bootstrap sample\n",
    "        bs_sample = np.random.choice(data,size=len(data))\n",
    "        # Get bootstrap replicate and append to bs_replicates\n",
    "        bs_replicates[i] = func(bs_sample)\n",
    "    \n",
    "    return np.percentile(bs_replicates, [2.5, 97.5])\n",
    "\n",
    "metadata_phase1 = pd.read_csv(\"/home/kti01/Documents/My Files/Projects/Overlap/data/phase1/metadata_phase1.csv\")\n",
    "metadata_phase2 = pd.read_csv(\"/home/kti01/Documents/My Files/Projects/Overlap/data/phase2/metadata_phase2.csv\")\n",
    "metadata_phase3 = pd.read_csv(\"/home/kti01/Documents/My Files/Projects/Overlap/data/phase3/metadata_phase3.csv\")\n",
    "#metadata_phase3 = metadata_phase3[metadata_phase3['language'] == 'en']\n",
    "#metadata_phase2 = metadata_phase2[metadata_phase2.participant.isin(metadata_phase3.participant)]\n",
    "\n",
    "metadata_phase2 = metadata_phase2[~metadata_phase2.issues.isin(['Insufficient Image Quality', 'unzureichende Bildqualität'])]\n",
    "metadata_phase3 = metadata_phase3[~metadata_phase3.issues.isin(['Insufficient Image Quality', 'unzureichende Bildqualität'])]\n",
    "metadata = pd.merge(metadata_phase2, metadata_phase3, how='inner', left_on=['participant', 'mask'], right_on=['participant', 'mask'])\n"
   ]
  },
  {
   "cell_type": "code",
   "execution_count": null,
   "id": "689af4c3",
   "metadata": {},
   "outputs": [],
   "source": []
  },
  {
   "cell_type": "code",
   "execution_count": 2,
   "id": "0bc921a9",
   "metadata": {},
   "outputs": [
    {
     "name": "stdout",
     "output_type": "stream",
     "text": [
      "0.5274136758353467\n",
      "0.580195675643555\n"
     ]
    },
    {
     "data": {
      "text/plain": [
       "Ttest_relResult(statistic=-2.8650650389347954, pvalue=0.004958064948696825)"
      ]
     },
     "execution_count": 2,
     "metadata": {},
     "output_type": "execute_result"
    }
   ],
   "source": [
    "participant_list = []\n",
    "kappas2 = []\n",
    "kappas3 = []\n",
    "for participant in metadata.participant.unique():\n",
    "    df = metadata[metadata.participant == participant]\n",
    "    kappas2.append(metrics.cohen_kappa_score(np.floor(df.prediction_x), df.AI_prediction_x))\n",
    "    kappas3.append(metrics.cohen_kappa_score(np.floor(df.prediction_y), df.AI_prediction_y))\n",
    "    participant_list.append(participant)\n",
    "kappas_df = pd.DataFrame({'participant': participant_list, 'phase2': kappas2, 'phase3': kappas3})\n",
    "print(kappas_df.phase2.mean())\n",
    "print(kappas_df.phase3.mean())\n",
    "stats.ttest_rel(kappas_df.phase2, kappas_df.phase3)"
   ]
  },
  {
   "cell_type": "code",
   "execution_count": null,
   "id": "bbc2f21b",
   "metadata": {},
   "outputs": [],
   "source": []
  },
  {
   "cell_type": "markdown",
   "id": "1d9b1469",
   "metadata": {},
   "source": [
    "## Agreement overall"
   ]
  },
  {
   "cell_type": "code",
   "execution_count": 21,
   "id": "8afdd5b5",
   "metadata": {},
   "outputs": [
    {
     "name": "stdout",
     "output_type": "stream",
     "text": [
      "Ttest_relResult(statistic=-2.6387152838834345, pvalue=0.009475211056486086)\n",
      "0.7708207022862195\n",
      "0.7947723253757737\n"
     ]
    }
   ],
   "source": [
    "agreement = {'participant': [], 'phase2': [], 'phase3': []}\n",
    "for participant in metadata.participant.unique():\n",
    "    df = metadata[metadata.participant == participant]\n",
    "    agreement['participant'].append(participant)\n",
    "    agreement['phase2'].append((df.AI_prediction_x == np.floor(df.prediction_x)).sum() / df.shape[0])\n",
    "    agreement['phase3'].append((df.AI_prediction_y == np.floor(df.prediction_y)).sum() / df.shape[0])\n",
    "agreement = pd.DataFrame(agreement)\n",
    "agreement['change'] = (agreement['phase3']-agreement['phase2'])\n",
    "print(stats.ttest_rel(agreement.phase2, agreement.phase3))\n",
    "print(agreement.phase2.mean())\n",
    "print(agreement.phase3.mean())"
   ]
  },
  {
   "cell_type": "code",
   "execution_count": 24,
   "id": "3fb67839",
   "metadata": {},
   "outputs": [
    {
     "name": "stdout",
     "output_type": "stream",
     "text": [
      "0.023951623089554126\n",
      "[0.00649165 0.04225401]\n"
     ]
    }
   ],
   "source": [
    "print(agreement.change.mean())\n",
    "print(confidence_interval(agreement.change))"
   ]
  },
  {
   "cell_type": "code",
   "execution_count": null,
   "id": "2c1b1780",
   "metadata": {},
   "outputs": [],
   "source": []
  },
  {
   "cell_type": "code",
   "execution_count": 12,
   "id": "3f519a93",
   "metadata": {},
   "outputs": [
    {
     "data": {
      "text/plain": [
       "array([0.77096383, 0.81770241])"
      ]
     },
     "execution_count": 12,
     "metadata": {},
     "output_type": "execute_result"
    }
   ],
   "source": [
    "confidence_interval(agreement.phase3)"
   ]
  },
  {
   "cell_type": "code",
   "execution_count": 6,
   "id": "abfd7573",
   "metadata": {},
   "outputs": [
    {
     "name": "stdout",
     "output_type": "stream",
     "text": [
      "0.7712952158693116\n",
      "0.79463243873979\n"
     ]
    }
   ],
   "source": [
    "print((metadata.AI_prediction_x == np.floor(metadata.prediction_x)).sum() / metadata.shape[0])\n",
    "print((metadata.AI_prediction_x == np.floor(metadata.prediction_y)).sum() / metadata.shape[0])\n"
   ]
  },
  {
   "cell_type": "code",
   "execution_count": 9,
   "id": "420111ff",
   "metadata": {},
   "outputs": [],
   "source": []
  },
  {
   "cell_type": "code",
   "execution_count": null,
   "id": "3a7e81ac",
   "metadata": {},
   "outputs": [],
   "source": []
  },
  {
   "cell_type": "code",
   "execution_count": null,
   "id": "7ee24962",
   "metadata": {},
   "outputs": [],
   "source": []
  },
  {
   "cell_type": "markdown",
   "id": "59323e2a",
   "metadata": {},
   "source": [
    "## Agreement erroneous preds"
   ]
  },
  {
   "cell_type": "code",
   "execution_count": 28,
   "id": "46f79b38",
   "metadata": {},
   "outputs": [
    {
     "name": "stdout",
     "output_type": "stream",
     "text": [
      "Ttest_relResult(statistic=-1.5410324833223832, pvalue=0.12620707597496442)\n",
      "0.6312121212121212\n",
      "0.678939393939394\n"
     ]
    }
   ],
   "source": [
    "agreement = {'participant': [], 'phase2': [], 'phase3': []}\n",
    "for participant in metadata.participant.unique():\n",
    "    df = metadata[metadata.participant == participant]\n",
    "    df = df[df['AI_prediction_y'] != df['benign_malignant_y']]\n",
    "    if len(df) == 0:\n",
    "        continue\n",
    "    agreement['participant'].append(participant)\n",
    "    agreement['phase2'].append((df.AI_prediction_x == np.floor(df.prediction_x)).sum() / df.shape[0])\n",
    "    agreement['phase3'].append((df.AI_prediction_y == np.floor(df.prediction_y)).sum() / df.shape[0])\n",
    "agreement = pd.DataFrame(agreement)\n",
    "agreement['change'] = (agreement['phase3']-agreement['phase2'])#/agreement['phase2']\n",
    "\n",
    "print(stats.ttest_rel(agreement.phase2, agreement.phase3))\n",
    "print(agreement.phase2.mean())\n",
    "print(agreement.phase3.mean())"
   ]
  },
  {
   "cell_type": "code",
   "execution_count": 30,
   "id": "35dac750",
   "metadata": {},
   "outputs": [
    {
     "name": "stdout",
     "output_type": "stream",
     "text": [
      "0.04772727272727273\n",
      "[-0.01242424  0.10863636]\n"
     ]
    }
   ],
   "source": [
    "print(agreement.change.mean())\n",
    "print(confidence_interval(agreement.change))"
   ]
  },
  {
   "cell_type": "code",
   "execution_count": 7,
   "id": "4e11e178",
   "metadata": {},
   "outputs": [
    {
     "name": "stdout",
     "output_type": "stream",
     "text": [
      "[0.56954167 0.69090909]\n",
      "[0.61893561 0.73651894]\n"
     ]
    }
   ],
   "source": [
    "print(confidence_interval(agreement.phase2))\n",
    "print(confidence_interval(agreement.phase3))"
   ]
  },
  {
   "cell_type": "code",
   "execution_count": null,
   "id": "325bab78",
   "metadata": {},
   "outputs": [],
   "source": []
  },
  {
   "cell_type": "code",
   "execution_count": 9,
   "id": "0d817387",
   "metadata": {},
   "outputs": [
    {
     "data": {
      "text/plain": [
       "0.6226993865030674"
      ]
     },
     "execution_count": 9,
     "metadata": {},
     "output_type": "execute_result"
    }
   ],
   "source": [
    "df = metadata[metadata.AI_prediction_x != metadata.benign_malignant_x]\n",
    "(df.AI_prediction_x == np.floor(df.prediction_x)).sum() / df.shape[0]"
   ]
  },
  {
   "cell_type": "code",
   "execution_count": 10,
   "id": "5b22d7f3",
   "metadata": {},
   "outputs": [
    {
     "data": {
      "text/plain": [
       "0.6625766871165644"
      ]
     },
     "execution_count": 10,
     "metadata": {},
     "output_type": "execute_result"
    }
   ],
   "source": [
    "(df.AI_prediction_x == np.floor(df.prediction_y)).sum() / df.shape[0]"
   ]
  },
  {
   "cell_type": "code",
   "execution_count": null,
   "id": "1e51a1a2",
   "metadata": {},
   "outputs": [],
   "source": []
  },
  {
   "cell_type": "code",
   "execution_count": 22,
   "id": "6b80e4d7",
   "metadata": {},
   "outputs": [
    {
     "data": {
      "text/plain": [
       "(130, 20)"
      ]
     },
     "execution_count": 22,
     "metadata": {},
     "output_type": "execute_result"
    }
   ],
   "source": [
    "metadata[(np.floor(metadata.prediction_x) != metadata.benign_malignant_x)&\n",
    "        (np.floor(metadata.prediction_y) == metadata.benign_malignant_x)].shape"
   ]
  },
  {
   "cell_type": "code",
   "execution_count": 23,
   "id": "dfabbd20",
   "metadata": {},
   "outputs": [
    {
     "data": {
      "text/plain": [
       "(116, 20)"
      ]
     },
     "execution_count": 23,
     "metadata": {},
     "output_type": "execute_result"
    }
   ],
   "source": [
    "metadata[(np.floor(metadata.prediction_x) == metadata.benign_malignant_x)&\n",
    "        (np.floor(metadata.prediction_y) != metadata.benign_malignant_y)].shape"
   ]
  },
  {
   "cell_type": "code",
   "execution_count": null,
   "id": "836625e0",
   "metadata": {},
   "outputs": [],
   "source": []
  }
 ],
 "metadata": {
  "kernelspec": {
   "display_name": "Python 3 (ipykernel)",
   "language": "python",
   "name": "python3"
  },
  "language_info": {
   "codemirror_mode": {
    "name": "ipython",
    "version": 3
   },
   "file_extension": ".py",
   "mimetype": "text/x-python",
   "name": "python",
   "nbconvert_exporter": "python",
   "pygments_lexer": "ipython3",
   "version": "3.9.9"
  }
 },
 "nbformat": 4,
 "nbformat_minor": 5
}
