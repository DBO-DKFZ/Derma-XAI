{
 "cells": [
  {
   "cell_type": "code",
   "execution_count": 1,
   "id": "94f64604-5684-4470-ad1d-a4aceb16764e",
   "metadata": {},
   "outputs": [
    {
     "ename": "ModuleNotFoundError",
     "evalue": "No module named 'albumentations'",
     "output_type": "error",
     "traceback": [
      "\u001b[0;31m---------------------------------------------------------------------------\u001b[0m",
      "\u001b[0;31mModuleNotFoundError\u001b[0m                       Traceback (most recent call last)",
      "Input \u001b[0;32mIn [1]\u001b[0m, in \u001b[0;36m<module>\u001b[0;34m\u001b[0m\n\u001b[1;32m      6\u001b[0m \u001b[38;5;28;01mimport\u001b[39;00m \u001b[38;5;21;01mttach\u001b[39;00m \u001b[38;5;28;01mas\u001b[39;00m \u001b[38;5;21;01mtta\u001b[39;00m\n\u001b[1;32m      7\u001b[0m \u001b[38;5;66;03m#from models import *\u001b[39;00m\n\u001b[0;32m----> 8\u001b[0m \u001b[38;5;28;01mfrom\u001b[39;00m \u001b[38;5;21;01mresnest101\u001b[39;00m \u001b[38;5;28;01mimport\u001b[39;00m \u001b[38;5;241m*\u001b[39m\n\u001b[1;32m      9\u001b[0m \u001b[38;5;28;01mfrom\u001b[39;00m \u001b[38;5;21;01mse_resnext101\u001b[39;00m \u001b[38;5;28;01mimport\u001b[39;00m \u001b[38;5;241m*\u001b[39m\n\u001b[1;32m     10\u001b[0m \u001b[38;5;28;01mimport\u001b[39;00m \u001b[38;5;21;01mpytorch_lightning\u001b[39;00m \u001b[38;5;28;01mas\u001b[39;00m \u001b[38;5;21;01mpl\u001b[39;00m\n",
      "File \u001b[0;32m~/Documents/My Files/Projects/Overlap/reproduce/isic_2020/resnest101.py:16\u001b[0m, in \u001b[0;36m<module>\u001b[0;34m\u001b[0m\n\u001b[1;32m     14\u001b[0m \u001b[38;5;28;01mfrom\u001b[39;00m \u001b[38;5;21;01mtorch\u001b[39;00m\u001b[38;5;21;01m.\u001b[39;00m\u001b[38;5;21;01mutils\u001b[39;00m\u001b[38;5;21;01m.\u001b[39;00m\u001b[38;5;21;01mdata\u001b[39;00m\u001b[38;5;21;01m.\u001b[39;00m\u001b[38;5;21;01msampler\u001b[39;00m \u001b[38;5;28;01mimport\u001b[39;00m WeightedRandomSampler\n\u001b[1;32m     15\u001b[0m \u001b[38;5;28;01mfrom\u001b[39;00m \u001b[38;5;21;01mdataset\u001b[39;00m \u001b[38;5;28;01mimport\u001b[39;00m \u001b[38;5;241m*\u001b[39m\n\u001b[0;32m---> 16\u001b[0m \u001b[38;5;28;01mimport\u001b[39;00m \u001b[38;5;21;01malbumentations\u001b[39;00m\n\u001b[1;32m     17\u001b[0m \u001b[38;5;28;01mfrom\u001b[39;00m \u001b[38;5;21;01malbumentations\u001b[39;00m\u001b[38;5;21;01m.\u001b[39;00m\u001b[38;5;21;01mpytorch\u001b[39;00m \u001b[38;5;28;01mimport\u001b[39;00m ToTensorV2\n\u001b[1;32m     18\u001b[0m \u001b[38;5;28;01mfrom\u001b[39;00m \u001b[38;5;21;01mcaptum\u001b[39;00m\u001b[38;5;21;01m.\u001b[39;00m\u001b[38;5;21;01mattr\u001b[39;00m \u001b[38;5;28;01mimport\u001b[39;00m LayerAttribution, LayerGradCam\n",
      "\u001b[0;31mModuleNotFoundError\u001b[0m: No module named 'albumentations'"
     ]
    }
   ],
   "source": [
    "import os\n",
    "import warnings\n",
    "warnings.filterwarnings(\"ignore\")\n",
    "import pandas as pd\n",
    "import torch\n",
    "import ttach as tta\n",
    "#from models import *\n",
    "from resnest101 import *\n",
    "from se_resnext101 import *\n",
    "import pytorch_lightning as pl\n",
    "from torch.nn import functional as F\n",
    "from pytorch_lightning.callbacks.early_stopping import EarlyStopping\n",
    "from sklearn import metrics\n",
    "from config import *\n",
    "from util import *\n",
    "import optuna\n",
    "import joblib\n",
    "import matplotlib\n",
    "import matplotlib.pyplot as plt\n",
    "import seaborn as sns\n",
    "sns.set()\n",
    "pd.set_option('display.max_columns', 500)\n",
    "pd.set_option('display.max_rows', 500)\n",
    "rc = {\"figure.figsize\" : (9, 7),\n",
    "      \"axes.spines.left\" : False,\n",
    "      \"axes.spines.right\" : False,\n",
    "      \"axes.spines.bottom\" : False,\n",
    "      \"axes.spines.top\" : False,\n",
    "      \"xtick.bottom\" : True,\n",
    "      \"xtick.labelbottom\" : True,\n",
    "      \"ytick.labelleft\" : True,\n",
    "      \"ytick.left\" : True,\n",
    "      \"axes.grid\" : False}\n",
    "plt.rcParams.update(rc)\n",
    "\n",
    "def confidence_interval_accuracy(data, size=10000):\n",
    "    \"\"\"creates a bootstrap sample, computes replicates and returns replicates array\"\"\"\n",
    "    # Create an empty array to store replicates\n",
    "    bs_replicates = np.empty(size)\n",
    "    \n",
    "    np.random.seed(42)\n",
    "    # Create bootstrap replicates as much as size\n",
    "    for i in range(size):\n",
    "        # Create a bootstrap sample\n",
    "        bs_sample = data.sample(len(data), replace=True)\n",
    "        # Get bootstrap replicate and append to bs_replicates\n",
    "        bs_replicates[i] = metrics.balanced_accuracy_score(bs_sample['true'], bs_sample['pred'])\n",
    "    \n",
    "    return np.percentile(bs_replicates, [2.5, 97.5])"
   ]
  },
  {
   "cell_type": "code",
   "execution_count": 2,
   "id": "56330202-60e7-4a6d-b228-63322cc44f5e",
   "metadata": {},
   "outputs": [],
   "source": [
    "model_names = ['efficientnetb3', 'efficientnetb4.1', 'efficientnetb4.2', 'efficientnetb4.3', 'efficientnetb4.4', 'efficientnetb4.5', \n",
    "               'efficientnetb5.1', 'efficientnetb5.2', 'efficientnetb5.3', 'efficientnetb5.4', 'efficientnetb6.1', 'efficientnetb6.1', \n",
    "               'efficientnetb6.2', 'efficientnetb6.3', 'efficientnetb7.2', 'efficientnetb7.3', 'resnest101', 'se_resnext101', ]\n",
    "\n",
    "#model_names = ['efficientnetb3', 'resnest101', 'se_resnext101']\n",
    "dfs = []\n",
    "for model_name in model_names:\n",
    "    try:\n",
    "        df = pd.read_csv(os.path.join('results', model_name+'.csv'))\n",
    "        df['model'] = model_name\n",
    "        dfs.append(df)\n",
    "    except:\n",
    "        pass\n",
    "df = pd.concat(dfs)"
   ]
  },
  {
   "cell_type": "code",
   "execution_count": 5,
   "id": "e991b599-5b7d-4985-a6cc-722a2832d2b2",
   "metadata": {},
   "outputs": [
    {
     "name": "stdout",
     "output_type": "stream",
     "text": [
      "=====\n",
      "AUC: 0.8433\n",
      "Balanced Acc: 0.8\n",
      "Sensitivity: 0.73\n",
      "Specificity: 0.87\n",
      "=====\n",
      "\n"
     ]
    }
   ],
   "source": [
    "result_ensemble = pd.read_csv(os.path.join('results', 'resnest101.csv'))\n",
    "\n",
    "result_ensemble['score'] = df.reset_index().groupby('index').score.mean()\n",
    "result_ensemble['pred'] = result_ensemble['score'].apply(lambda x: 1 if x >= 0.5 else 0)\n",
    "\n",
    "display_scores(result_ensemble)"
   ]
  },
  {
   "cell_type": "code",
   "execution_count": 4,
   "id": "e9a986de-99a8-47cc-a206-7abbe1b246e8",
   "metadata": {},
   "outputs": [
    {
     "data": {
      "text/plain": [
       "array([0.74251211, 0.85296474])"
      ]
     },
     "execution_count": 4,
     "metadata": {},
     "output_type": "execute_result"
    }
   ],
   "source": [
    "confidence_interval_accuracy(result_ensemble)"
   ]
  },
  {
   "cell_type": "code",
   "execution_count": 7,
   "id": "ca268f7c-c593-46e9-a4bc-4e38e14c2577",
   "metadata": {},
   "outputs": [],
   "source": []
  },
  {
   "cell_type": "code",
   "execution_count": null,
   "id": "df481739-efa9-4b58-b9e5-f75b257bdcd7",
   "metadata": {},
   "outputs": [],
   "source": []
  },
  {
   "cell_type": "code",
   "execution_count": null,
   "id": "50735b61-8b92-4812-8235-89f4e885020b",
   "metadata": {},
   "outputs": [],
   "source": []
  },
  {
   "cell_type": "code",
   "execution_count": null,
   "id": "fbadeceb-59bb-46f9-bdb8-483d4dc54234",
   "metadata": {},
   "outputs": [],
   "source": []
  },
  {
   "cell_type": "code",
   "execution_count": null,
   "id": "78e0d66e-daa5-47a4-bbc6-139063a12d17",
   "metadata": {},
   "outputs": [],
   "source": []
  },
  {
   "cell_type": "code",
   "execution_count": null,
   "id": "ec197870-7a8c-4368-a1d5-8075f5cf0295",
   "metadata": {},
   "outputs": [],
   "source": []
  },
  {
   "cell_type": "code",
   "execution_count": 36,
   "id": "ba1f80c3-15cd-40e7-b60a-e93a60c1f870",
   "metadata": {},
   "outputs": [
    {
     "name": "stdout",
     "output_type": "stream",
     "text": [
      "efficientnetb3 0.74\n",
      "efficientnetb4.1 0.755\n",
      "efficientnetb4.2 0.72\n",
      "efficientnetb4.3 0.72\n",
      "efficientnetb4.4 0.72\n",
      "efficientnetb4.5 0.72\n",
      "efficientnetb5.1 0.78\n",
      "efficientnetb5.2 0.725\n",
      "efficientnetb5.3 0.725\n",
      "efficientnetb5.4 0.7150000000000001\n",
      "efficientnetb6.1 0.735\n",
      "efficientnetb6.2 0.74\n",
      "efficientnetb6.3 0.735\n",
      "efficientnetb7.2 0.7150000000000001\n",
      "efficientnetb7.3 0.695\n",
      "resnest101 0.76\n",
      "se_resnext101 0.775\n"
     ]
    }
   ],
   "source": [
    "for model in df.model.unique():\n",
    "    temp = df[df.model == model]\n",
    "    print(model, metrics.balanced_accuracy_score(temp.true, temp.pred))"
   ]
  },
  {
   "cell_type": "code",
   "execution_count": null,
   "id": "c93a3516-b429-4e88-a4a9-a2415ecf17d0",
   "metadata": {},
   "outputs": [],
   "source": []
  },
  {
   "cell_type": "code",
   "execution_count": null,
   "id": "820cda4f-c703-40d3-b8c1-2c8e4d465278",
   "metadata": {},
   "outputs": [],
   "source": []
  }
 ],
 "metadata": {
  "kernelspec": {
   "display_name": "Python 3 (ipykernel)",
   "language": "python",
   "name": "python3"
  },
  "language_info": {
   "codemirror_mode": {
    "name": "ipython",
    "version": 3
   },
   "file_extension": ".py",
   "mimetype": "text/x-python",
   "name": "python",
   "nbconvert_exporter": "python",
   "pygments_lexer": "ipython3",
   "version": "3.9.9"
  }
 },
 "nbformat": 4,
 "nbformat_minor": 5
}
