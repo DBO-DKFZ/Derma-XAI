{
 "cells": [
  {
   "cell_type": "code",
   "execution_count": 2,
   "id": "c721da8f",
   "metadata": {},
   "outputs": [],
   "source": [
    "import os\n",
    "import pandas as pd\n",
    "import numpy as np\n",
    "import json\n",
    "from skimage import draw\n",
    "from skimage import io\n",
    "from skimage import transform\n",
    "from tqdm.auto import tqdm\n",
    "\n",
    "image_size=224\n",
    "\n",
    "char_class_labels = ['TRBL', 'ESA', 'BDG', 'GP', 'PV', 'PRL', 'WLSA', 'PLR', 'PES', 'PIF', 'OPC', 'SPC', 'MVP', 'PRLC', 'PLF', 'PDES', 'APC', 'MS']\n",
    "\n",
    "annotator_map = {'1': '1', 'gt1': '2', 'gt2': '3', 'gt3': '4', 'gt4': '5', 'gt7': '6', 'gt10': '7', 'gt12': '8',\n",
    "                'gt13': '9', 'gt14': '10', 'gt15': '11', 'gt16': '12', 'gt17': '13', 'gt19': '14'}\n",
    "\n",
    "def polygon2mask(polygon):\n",
    "    \"\"\"\n",
    "    Create an image mask from polygon coordinates\n",
    "    \"\"\"\n",
    "    vertex_row_coords, vertex_col_coords, shape = polygon[:, 1], polygon[:, 0], (450, 600)\n",
    "    \n",
    "    fill_row_coords, fill_col_coords = draw.polygon(vertex_row_coords, vertex_col_coords, shape)\n",
    "    mask = np.zeros(shape, dtype=float)\n",
    "    mask[fill_row_coords, fill_col_coords] = 1.\n",
    "    mask = transform.resize(mask, (image_size, image_size))\n",
    "    return mask.astype(np.int16)\n",
    "\n",
    "def process_annotations(y_annotations):\n",
    "    masks = [polygon2mask(ann) for ann in y_annotations]\n",
    "    mask = np.bitwise_or.reduce(masks)\n",
    "    return mask"
   ]
  },
  {
   "cell_type": "code",
   "execution_count": null,
   "id": "8249730b",
   "metadata": {},
   "outputs": [],
   "source": []
  },
  {
   "cell_type": "code",
   "execution_count": null,
   "id": "403ec1a8",
   "metadata": {},
   "outputs": [],
   "source": []
  },
  {
   "cell_type": "markdown",
   "id": "83f5af50",
   "metadata": {},
   "source": [
    "# Ground Truth"
   ]
  },
  {
   "cell_type": "code",
   "execution_count": 25,
   "id": "92bd7cf7",
   "metadata": {},
   "outputs": [],
   "source": [
    "metadata_gt = pd.read_pickle(\"/home/kti01/Documents/My Files/Projects/Overlap/data/ground_truth/metadata_gt_consolidated.pkl\")\n",
    "save_path = \"/home/kti01/Documents/My Files/Projects/Overlap/data/ground_truth/for_uploading/ground_truth_annotations\"\n",
    "metadata_gt['annotator'] = metadata_gt['annotator'].replace(annotator_map)\n",
    "metadata = metadata_gt[['lesion_id', 'image_id', 'dx', 'dx_type', 'age', 'sex', 'localization',\n",
    "       'dataset', 'benign_malignant', 'APC', 'BDG', 'ESA', 'GP', 'MS', 'MVP', 'None', 'OPC',\n",
    "       'PDES', 'PES', 'PIF', 'PLF', 'PLR', 'PRL', 'PRLC', 'PV', 'SPC', 'TRBL',\n",
    "       'WLSA', 'annotator']].copy()"
   ]
  },
  {
   "cell_type": "code",
   "execution_count": null,
   "id": "045961d4",
   "metadata": {},
   "outputs": [],
   "source": []
  },
  {
   "cell_type": "code",
   "execution_count": null,
   "id": "dc596ad0",
   "metadata": {},
   "outputs": [],
   "source": []
  },
  {
   "cell_type": "code",
   "execution_count": 68,
   "id": "3ce375f1",
   "metadata": {},
   "outputs": [
    {
     "name": "stderr",
     "output_type": "stream",
     "text": [
      "100%|██████████████████████████████████████| 3611/3611 [00:13<00:00, 262.87it/s]\n",
      "100%|████████████████████████████████████████| 438/438 [00:01<00:00, 303.85it/s]\n",
      "100%|████████████████████████████████████████| 215/215 [00:00<00:00, 352.97it/s]\n",
      "100%|████████████████████████████████████████| 163/163 [00:00<00:00, 356.10it/s]\n",
      "100%|████████████████████████████████████████| 196/196 [00:00<00:00, 289.68it/s]\n",
      "100%|████████████████████████████████████████| 222/222 [00:00<00:00, 271.00it/s]\n",
      "100%|████████████████████████████████████████| 210/210 [00:00<00:00, 268.07it/s]\n",
      "100%|████████████████████████████████████████| 222/222 [00:00<00:00, 364.46it/s]\n",
      "100%|████████████████████████████████████████| 199/199 [00:00<00:00, 366.12it/s]\n",
      "100%|████████████████████████████████████████| 217/217 [00:00<00:00, 318.75it/s]\n",
      "100%|████████████████████████████████████████| 186/186 [00:00<00:00, 272.04it/s]\n",
      "100%|████████████████████████████████████████| 199/199 [00:00<00:00, 270.79it/s]\n",
      "100%|████████████████████████████████████████| 200/200 [00:00<00:00, 286.53it/s]\n",
      "100%|████████████████████████████████████████| 220/220 [00:00<00:00, 346.22it/s]\n",
      "100%|███████████████████████████████████████████| 14/14 [00:23<00:00,  1.66s/it]\n"
     ]
    }
   ],
   "source": [
    "# Iterate over each unique annotator in the 'metadata_gt' DataFrame\n",
    "for annotator in tqdm(metadata_gt.annotator.unique()):\n",
    "    # Filter the DataFrame to get data specific to the current annotator\n",
    "    annotator_df = metadata_gt[metadata_gt.annotator == annotator]\n",
    "    # Iterate over each unique image_id associated with the current annotator's data\n",
    "    for image_id in tqdm(annotator_df.image_id.unique(), position=0, leave=True):\n",
    "        # Initialize an empty dictionary to store annotations for the current image\n",
    "        annotations = {}\n",
    "        \n",
    "        # Filter the DataFrame to get data specific to the current image_id\n",
    "        df = annotator_df[annotator_df.image_id == image_id]\n",
    "        \n",
    "        # Iterate over the list of ontology features\n",
    "        for feature in char_class_labels:\n",
    "            # Check if the last row of the filtered DataFrame contains a valid annotation for the current feature\n",
    "            #  This df contains only one row so iloc[0] and iloc[-1] is equivalent here\n",
    "            if df.iloc[-1][feature+'_annotation'] != -1:\n",
    "                # Retrieve the annotation for the current feature\n",
    "                ann = df.iloc[-1][feature+'_annotation']\n",
    "                \n",
    "                # Convert the NumPy array in the annotation to a list and store it in 'annotations' dictionary\n",
    "                np_to_list = []\n",
    "                for i in range(len(ann)):\n",
    "                    np_to_list.append(ann[i].tolist())\n",
    "                annotations[feature] = np_to_list\n",
    "                \n",
    "        # Convert 'annotations' dictionary to a JSON string        \n",
    "        annotations = json.dumps(annotations)\n",
    "        # Save the JSON file with the annotations for the current image and annotator\n",
    "        with open(os.path.join(save_path, 'annotator'+annotator, image_id+'.json'), 'w') as f:\n",
    "            json.dump(annotations, f)\n"
   ]
  },
  {
   "cell_type": "code",
   "execution_count": null,
   "id": "aa4fc567",
   "metadata": {},
   "outputs": [],
   "source": []
  },
  {
   "cell_type": "code",
   "execution_count": 65,
   "id": "d6aabff1",
   "metadata": {},
   "outputs": [],
   "source": [
    "try:\n",
    "    with open(\"/home/kti01/Documents/My Files/Projects/Overlap/data/ground_truth/for_uploading/annotations/annotator1/ISIC_0033712.json\", 'rb') as f:\n",
    "        annotation = json.load(f)\n",
    "except Exception as e:\n",
    "    print(e)"
   ]
  },
  {
   "cell_type": "code",
   "execution_count": null,
   "id": "55cc8641",
   "metadata": {},
   "outputs": [],
   "source": []
  },
  {
   "cell_type": "code",
   "execution_count": 71,
   "id": "eac1807d",
   "metadata": {},
   "outputs": [],
   "source": [
    "metadata.to_csv(\"/home/kti01/Documents/My Files/Projects/Overlap/data/ground_truth/for_uploading/metadata/metadata.csv\", index=False)"
   ]
  },
  {
   "cell_type": "code",
   "execution_count": null,
   "id": "a6d89216",
   "metadata": {},
   "outputs": [],
   "source": []
  },
  {
   "cell_type": "code",
   "execution_count": null,
   "id": "f29f2bdf",
   "metadata": {},
   "outputs": [],
   "source": []
  },
  {
   "cell_type": "code",
   "execution_count": null,
   "id": "3c73616e",
   "metadata": {},
   "outputs": [],
   "source": []
  },
  {
   "cell_type": "code",
   "execution_count": null,
   "id": "ce6dcbc0",
   "metadata": {},
   "outputs": [],
   "source": []
  },
  {
   "cell_type": "code",
   "execution_count": null,
   "id": "92d32006",
   "metadata": {},
   "outputs": [],
   "source": []
  },
  {
   "cell_type": "markdown",
   "id": "2209c61a",
   "metadata": {},
   "source": [
    "# Phase 1"
   ]
  },
  {
   "cell_type": "code",
   "execution_count": 46,
   "id": "d319a8f3",
   "metadata": {},
   "outputs": [],
   "source": [
    "metadata = pd.read_pickle(\"/home/kti01/Documents/My Files/Projects/Overlap/data/phase1/metadata_phase1.pkl\").fillna(-1)\n",
    "save_path = \"/home/kti01/Documents/My Files/Projects/Overlap/data/ground_truth/for_uploading/study_annotations\"\n",
    "metadata['participant'] = (pd.factorize(metadata['participant'])[0]+1).astype(str)\n",
    "\n",
    "metadata.drop('mask', axis=1, inplace=True)\n",
    "metadata.drop('language', axis=1, inplace=True)"
   ]
  },
  {
   "cell_type": "code",
   "execution_count": null,
   "id": "1ed23ce8",
   "metadata": {},
   "outputs": [],
   "source": []
  },
  {
   "cell_type": "code",
   "execution_count": 49,
   "id": "dd28344c",
   "metadata": {},
   "outputs": [
    {
     "name": "stderr",
     "output_type": "stream",
     "text": [
      "100%|█████████████████████████████████████████| 113/113 [00:05<00:00, 20.64it/s]\n"
     ]
    }
   ],
   "source": [
    "# Iterate over each unique annotator in the 'metadata_gt' DataFrame\n",
    "for participant in tqdm(metadata.participant.unique(), position=0, leave=True):\n",
    "    participant_df = metadata[metadata.participant == participant]\n",
    "    \n",
    "    for image_id in participant_df.image_id.unique():\n",
    "        # Initialize an empty dictionary to store annotations for the current image\n",
    "        annotations = {}\n",
    "        # Filter the DataFrame to get data specific to the current image_id\n",
    "        df = participant_df[participant_df.image_id == image_id]\n",
    "        \n",
    "        # Iterate over the list of ontology features\n",
    "        for feature in char_class_labels:\n",
    "            # Check if the last row of the filtered DataFrame contains a valid annotation for the current feature\n",
    "            #  This df contains only one row so iloc[0] and iloc[-1] is equivalent here\n",
    "            if df.iloc[-1][feature+'_annotation'] != -1:\n",
    "                # Retrieve the annotation for the current feature\n",
    "                ann = df.iloc[-1][feature+'_annotation']\n",
    "                # Convert the NumPy array in the annotation to a list and store it in 'annotations' dictionary\n",
    "                np_to_list = []\n",
    "                for i in range(len(ann)):\n",
    "                    np_to_list.append(ann[i].tolist())\n",
    "                annotations[feature] = np_to_list\n",
    "        \n",
    "        # Convert 'annotations' dictionary to a JSON string        \n",
    "        annotations = json.dumps(annotations)\n",
    "        \n",
    "        # Create participant folder\n",
    "        if not os.path.exists(os.path.join(save_path, 'participant'+participant)):\n",
    "            os.mkdir(os.path.join(save_path, 'participant'+participant))\n",
    "        # Save the JSON file with the annotations for the current image and annotator\n",
    "        with open(os.path.join(save_path, 'participant'+participant, image_id+'.json'), 'w') as f:\n",
    "            json.dump(annotations, f)\n",
    "\n",
    "        "
   ]
  },
  {
   "cell_type": "code",
   "execution_count": null,
   "id": "a3538495",
   "metadata": {},
   "outputs": [],
   "source": []
  },
  {
   "cell_type": "code",
   "execution_count": 53,
   "id": "7b5f8e65",
   "metadata": {},
   "outputs": [],
   "source": [
    "metadata.to_csv(\"/home/kti01/Documents/My Files/Projects/Overlap/data/ground_truth/for_uploading/metadata/metadata_study.csv\", index=False)"
   ]
  },
  {
   "cell_type": "code",
   "execution_count": null,
   "id": "f272d45e",
   "metadata": {},
   "outputs": [],
   "source": []
  }
 ],
 "metadata": {
  "kernelspec": {
   "display_name": "Python 3 (ipykernel)",
   "language": "python",
   "name": "python3"
  },
  "language_info": {
   "codemirror_mode": {
    "name": "ipython",
    "version": 3
   },
   "file_extension": ".py",
   "mimetype": "text/x-python",
   "name": "python",
   "nbconvert_exporter": "python",
   "pygments_lexer": "ipython3",
   "version": "3.9.9"
  }
 },
 "nbformat": 4,
 "nbformat_minor": 5
}
