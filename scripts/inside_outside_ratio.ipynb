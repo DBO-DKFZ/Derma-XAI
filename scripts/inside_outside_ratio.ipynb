{
 "cells": [
  {
   "cell_type": "code",
   "execution_count": 1,
   "id": "f97ba86a",
   "metadata": {},
   "outputs": [
    {
     "name": "stderr",
     "output_type": "stream",
     "text": [
      "/home/kti01/miniconda3/envs/artifact_detection/lib/python3.9/site-packages/tqdm/auto.py:22: TqdmWarning: IProgress not found. Please update jupyter and ipywidgets. See https://ipywidgets.readthedocs.io/en/stable/user_install.html\n",
      "  from .autonotebook import tqdm as notebook_tqdm\n"
     ]
    }
   ],
   "source": [
    "import pickle\n",
    "import math\n",
    "import sys\n",
    "import torch\n",
    "from torch import nn\n",
    "from torchvision import transforms\n",
    "from torch.utils.data import Dataset\n",
    "from skimage import draw\n",
    "from skimage import io\n",
    "from skimage import transform\n",
    "import pickle\n",
    "import os\n",
    "import matplotlib\n",
    "import matplotlib.pyplot as plt\n",
    "import pandas as pd\n",
    "pd.set_option('display.max_rows', 500)\n",
    "pd.set_option('display.max_columns', 500)\n",
    "import numpy as np\n",
    "import warnings\n",
    "from sklearn import metrics\n",
    "from scipy import stats\n",
    "import matplotlib.pyplot as plt\n",
    "import seaborn as sns\n",
    "sns.set_theme(style='whitegrid')\n",
    "plt.rcParams[\"figure.figsize\"] = (10,10)\n",
    "import pickle\n",
    "warnings.filterwarnings(\"ignore\")"
   ]
  },
  {
   "cell_type": "code",
   "execution_count": 2,
   "id": "c06e5638",
   "metadata": {},
   "outputs": [],
   "source": [
    "def confidence_interval(data, size=10000, func=np.mean):\n",
    "    \"\"\"creates a bootstrap sample, computes replicates and returns replicates array\"\"\"\n",
    "    # Create an empty array to store replicates\n",
    "    bs_replicates = np.empty(size)\n",
    "    \n",
    "    np.random.seed(42)\n",
    "    # Create bootstrap replicates as much as size\n",
    "    for i in range(size):\n",
    "        # Create a bootstrap sample\n",
    "        bs_sample = np.random.choice(data,size=len(data))\n",
    "        # Get bootstrap replicate and append to bs_replicates\n",
    "        bs_replicates[i] = func(bs_sample)\n",
    "    \n",
    "    return np.percentile(bs_replicates, [2.5, 97.5])\n",
    "\n",
    "class DiceScore(nn.Module):\n",
    "    def __init__(self):\n",
    "        super(DiceScore, self).__init__()\n",
    "\n",
    "    def forward(self, inputs, targets, smooth=1):\n",
    "\n",
    "        num = targets.shape[0]\n",
    "        inputs = inputs.reshape(num, -1)\n",
    "        targets = targets.reshape(num, -1)\n",
    "\n",
    "        intersection = (inputs * targets).sum(1)\n",
    "        dice = (2. * intersection + smooth) / (inputs.sum(1) + targets.sum(1) + smooth)\n",
    "\n",
    "        dice = dice.sum() / num\n",
    "\n",
    "        return dice\n",
    "        \n",
    "\n",
    "def polygon2mask(polygon):\n",
    "    \"\"\"\n",
    "    Create an image mask from polygon coordinates\n",
    "    \"\"\"\n",
    "    vertex_row_coords, vertex_col_coords, shape = polygon[:, 1], polygon[:, 0], (450, 600)\n",
    "    \n",
    "    fill_row_coords, fill_col_coords = draw.polygon(vertex_row_coords, vertex_col_coords, shape)\n",
    "    mask = np.zeros(shape, dtype=float)\n",
    "    mask[fill_row_coords, fill_col_coords] = 1.\n",
    "    mask = transform.resize(mask, (224, 224))\n",
    "    return mask\n",
    "\n",
    "\n",
    "def process_annotations(y_annotations):\n",
    "    masks = [polygon2mask(ann) for ann in y_annotations]\n",
    "    mask = np.bitwise_or.reduce(masks)\n",
    "    return mask\n",
    "\n",
    "\n",
    "predictions_path = \"/home/kti01/Documents/My Files/Projects/Overlap/characteristics_classifier/attributions\"\n",
    "phase1_path = \"/home/kti01/Documents/My Files/Projects/Overlap/data/phase1\"\n",
    "phase3_path = \"/home/kti01/Documents/My Files/Projects/Overlap/data/phase3\"\n",
    "phase2_path = \"/home/kti01/Documents/My Files/Projects/Overlap/data/phase2\"\n",
    "metadata_phase1 = pd.read_pickle(os.path.join(phase1_path, \"metadata_phase1.pkl\"))\n",
    "metadata_phase3 = pd.read_csv(os.path.join(phase3_path, \"metadata_phase3.csv\"))\n",
    "metadata_phase3 = metadata_phase3[~metadata_phase3.issues.isin(['Insufficient Image Quality', 'unzureichende Bildqualität'])]\n",
    "\n",
    "metadata_phase1['prediction'] = np.floor(metadata_phase1['prediction'])\n",
    "metadata_phase3['prediction'] = np.floor(metadata_phase3['prediction'])"
   ]
  },
  {
   "cell_type": "code",
   "execution_count": null,
   "id": "6835d0a0",
   "metadata": {},
   "outputs": [],
   "source": []
  },
  {
   "cell_type": "code",
   "execution_count": null,
   "id": "ae836fcd",
   "metadata": {},
   "outputs": [],
   "source": []
  },
  {
   "cell_type": "markdown",
   "id": "b124f1c2",
   "metadata": {},
   "source": [
    "## Attribution inside vs outside lesion normal"
   ]
  },
  {
   "cell_type": "code",
   "execution_count": 3,
   "id": "20269c2c",
   "metadata": {},
   "outputs": [],
   "source": [
    "eps = 1e-6\n",
    "\n",
    "# Normal\n",
    "segmentation_dir = \"/home/kti01/Documents/My Files/Projects/Overlap/data/ham_lesion_segmentations/archive/HAM10000_segmentations_lesion_tschandl\"\n",
    "\n",
    "with open('/home/kti01/Documents/My Files/Projects/Overlap/melanoma_classifier/attributions_dict.pkl', 'rb') as handle:\n",
    "    attributions_dict_normal = pickle.load(handle)\n",
    "ratios_normal_mel = {}\n",
    "ratios_normal_nv = {}\n",
    "ratios_normal = {}\n",
    "inside_outside = {}\n",
    "for image_id in attributions_dict_normal.keys():\n",
    "    if image_id not in metadata_phase1.image_id.unique():\n",
    "        continue\n",
    "    \n",
    "    if attributions_dict_normal[image_id][0] >= 0.5:\n",
    "    \n",
    "        attr = attributions_dict_normal[image_id][1][0]\n",
    "        mask = io.imread(os.path.join(segmentation_dir, image_id+'_segmentation.png'))\n",
    "        mask = transform.resize(mask, (224, 224))\n",
    "        mask[mask == 255] = 1\n",
    "        ratio = (attr[mask == 1].mean()+eps) / (attr[mask == 0].mean()+eps)\n",
    "        \n",
    "        if not math.isinf(ratio) and not math.isnan(ratio):\n",
    "            ratios_normal_mel[image_id] = ratio \n",
    "            \n",
    "    else:\n",
    "        attr = attributions_dict_normal[image_id][1][0]\n",
    "        mask = io.imread(os.path.join(segmentation_dir, image_id+'_segmentation.png'))\n",
    "        mask = transform.resize(mask, (224, 224))\n",
    "        mask[mask == 255] = 1\n",
    "        ratio = (attr[mask == 1].mean()+eps) / (attr[mask == 0].mean()+eps)\n",
    "        \n",
    "        \n",
    "        if not math.isinf(ratio) and not math.isnan(ratio):\n",
    "            ratios_normal_nv[image_id] = ratio \n",
    "\n",
    "ratios_normal = dict(list(ratios_normal_mel.items()) + list(ratios_normal_nv.items()))"
   ]
  },
  {
   "cell_type": "code",
   "execution_count": null,
   "id": "1f527763",
   "metadata": {},
   "outputs": [],
   "source": []
  },
  {
   "cell_type": "markdown",
   "id": "5fff7fc3",
   "metadata": {},
   "source": [
    "## Attribution inside vs outside lesion explainoma"
   ]
  },
  {
   "cell_type": "code",
   "execution_count": 4,
   "id": "cc446d34",
   "metadata": {},
   "outputs": [],
   "source": [
    "attributions_path = \"/home/kti01/Documents/My Files/Projects/Overlap/characteristics_classifier/attributions\"\n",
    "\n",
    "char_labels_full = ['thick reticular or branched lines', 'black dots or globules in the periphery of the lesion', \n",
    "                    'white lines or white structureless area', 'eccentrically located structureless area', 'grey patterns',\n",
    "                    'polymorphous vessels', 'pseudopods or radial lines at the lesion margin that do not occupy the entire lesional circumference',\n",
    "                    'asymmetric combination of multiple patterns or colours in the absence of other melanoma criteria', 'melanoma simulator', \n",
    "                    'only one pattern and only one colour']\n",
    "\n",
    "metadata_phase2 = pd.read_csv(\"/home/kti01/Documents/My Files/Projects/Overlap/data/phase2/metadata_phase2.csv\")\n",
    "AI_predictions = dict(zip(metadata_phase2['mask'], metadata_phase2.AI_prediction))\n",
    "metadata_phase1 = pd.read_pickle(\"/home/kti01/Documents/My Files/Projects/Overlap/data/phase1/metadata_phase1.pkl\")\n",
    "metadata_phase1['prediction'] = np.floor(metadata_phase1['prediction'])\n",
    "mask_to_image_id = dict(zip(metadata_phase1['mask'], metadata_phase1['image_id']))\n",
    "\n",
    "\n",
    "ratios_exp_mel = {}\n",
    "ratios_exp_nv = {}\n",
    "ratios_exp = {}\n",
    "\n",
    "for mask in metadata_phase1['mask'].unique().astype(int):\n",
    "    \n",
    "    \n",
    "    with open(os.path.join(attributions_path, str(mask), str(mask)+'.pkl'), 'rb') as handle:\n",
    "        attributions = pickle.load(handle)\n",
    "    \n",
    "    seg_mask = io.imread(os.path.join(segmentation_dir, mask_to_image_id[mask]+'_segmentation.png'))\n",
    "    seg_mask = transform.resize(seg_mask, (224, 224))\n",
    "    seg_mask[seg_mask == 255] = 1\n",
    "        \n",
    "    AI_pred = AI_predictions[mask]\n",
    "    predictions_df = pd.read_csv(os.path.join(attributions_path, str(mask), 'predictions_'+str(mask)+'.csv'))\n",
    "    \n",
    "    if AI_pred == 1:\n",
    "        ratios_per_feature = []\n",
    "        for i in range(predictions_df.iloc[0:].shape[0]):\n",
    "            pred = predictions_df.iloc[i].label\n",
    "            idx = char_labels_full.index(pred)\n",
    "            attr = attributions[idx]\n",
    "            ratio = (attr[seg_mask == 1].mean()+eps) / (attr[seg_mask == 0].mean()+eps)\n",
    "            \n",
    "            if not math.isinf(ratio) and not math.isnan(ratio):\n",
    "                ratios_per_feature.append(ratio)\n",
    "            \n",
    "        mean_ratio = np.mean(ratios_per_feature)\n",
    "\n",
    "        ratios_exp_mel[mask_to_image_id[mask]] = mean_ratio\n",
    "    else:\n",
    "        ratios_per_feature = []\n",
    "        for i in range(predictions_df.shape[0]):\n",
    "            pred = predictions_df.iloc[i].label\n",
    "            idx = char_labels_full.index(pred)\n",
    "            attr = attributions[idx]\n",
    "            ratio = (attr[seg_mask == 1].mean()+eps) / (attr[seg_mask == 0].mean()+eps)\n",
    "            \n",
    "            if not math.isinf(ratio) and not math.isnan(ratio):\n",
    "                ratios_per_feature.append(ratio)\n",
    "        mean_ratio = np.mean(ratios_per_feature)\n",
    "\n",
    "        ratios_exp_nv[mask_to_image_id[mask]] = mean_ratio\n",
    "        \n",
    "ratios_exp = dict(list(ratios_exp_mel.items()) + list(ratios_exp_nv.items()))"
   ]
  },
  {
   "cell_type": "code",
   "execution_count": null,
   "id": "db2d06b0",
   "metadata": {},
   "outputs": [],
   "source": []
  },
  {
   "cell_type": "code",
   "execution_count": null,
   "id": "b4da5cfc",
   "metadata": {},
   "outputs": [],
   "source": []
  },
  {
   "cell_type": "code",
   "execution_count": 5,
   "id": "a594febc",
   "metadata": {
    "scrolled": true
   },
   "outputs": [
    {
     "data": {
      "text/plain": [
       "Text(0, 0.5, 'Grad-CAM ratio (inside/outside)')"
      ]
     },
     "execution_count": 5,
     "metadata": {},
     "output_type": "execute_result"
    },
    {
     "data": {
      "image/png": "[encoded data removed]",
      "text/plain": [
       "<Figure size 432x576 with 1 Axes>"
      ]
     },
     "metadata": {},
     "output_type": "display_data"
    }
   ],
   "source": [
    "normal = pd.DataFrame().from_dict(ratios_normal, orient='index')\n",
    "normal.columns = ['baseline']\n",
    "\n",
    "explainoma = pd.DataFrame().from_dict(ratios_exp, orient='index')\n",
    "explainoma.columns = ['our XAI']\n",
    "\n",
    "df = pd.concat([normal, explainoma], ignore_index=True, axis=1)\n",
    "df.columns = ['baseline', 'our XAI']\n",
    "\n",
    "#df = np.log2(df)\n",
    "\n",
    "plt.figure(figsize=(6,8))\n",
    "palette = sns.color_palette(['grey'], len(df))\n",
    "sns.boxplot(data=df, width=0.4, showfliers=False, palette='Blues')\n",
    "plt.legend('', frameon=False)\n",
    "sns.stripplot(data=df, color='black', alpha=0.6)\n",
    "plt.yticks(size=18)\n",
    "plt.xticks(size=25)\n",
    "#plt.title('Ratio of Mean Pixel Activation Inside Lesion vs Outside', size=15)\n",
    "plt.ylim(0, 310)\n",
    "plt.ylabel('Grad-CAM ratio (inside/outside)', size=25)\n",
    "#plt.savefig('/home/kti01/Documents/My Files/Projects/Overlap/plots/overlap/inside_vs_outside', dpi=500, bbox_inches='tight')"
   ]
  },
  {
   "cell_type": "code",
   "execution_count": 11,
   "id": "e7997ef6",
   "metadata": {},
   "outputs": [
    {
     "name": "stdout",
     "output_type": "stream",
     "text": [
      "(15, 2)\n",
      "(0, 2)\n"
     ]
    }
   ],
   "source": [
    "print(df[df['explanatory AI'] > 310].shape)\n",
    "print(df[df['baseline'] > 310].shape)"
   ]
  },
  {
   "cell_type": "code",
   "execution_count": 8,
   "id": "5b6b4083",
   "metadata": {},
   "outputs": [
    {
     "name": "stdout",
     "output_type": "stream",
     "text": [
      "WilcoxonResult(statistic=8.0, pvalue=7.350901349070684e-34)\n",
      "3.4590824598017704\n",
      "[3.09450758 3.83751522]\n",
      "35.90850324503222\n",
      "[30.63953665 42.06477647]\n",
      "(196, 2)\n"
     ]
    }
   ],
   "source": [
    "print(stats.wilcoxon(df['baseline'], df['explanatory AI']))\n",
    "\n",
    "print(df.baseline.median())\n",
    "print(confidence_interval(df.baseline, func=np.median))\n",
    "\n",
    "print(df['explanatory AI'].median())\n",
    "print(confidence_interval(df['explanatory AI'], func=np.median))\n",
    "print(df.shape)"
   ]
  },
  {
   "cell_type": "code",
   "execution_count": 8,
   "id": "291f4229",
   "metadata": {},
   "outputs": [],
   "source": [
    "#df.reset_index().rename({'index': 'image_id'}, axis=1).to_csv('../Source Data/Fig3a.csv', index=False)"
   ]
  },
  {
   "cell_type": "code",
   "execution_count": null,
   "id": "dcc83d0b",
   "metadata": {},
   "outputs": [],
   "source": []
  },
  {
   "cell_type": "code",
   "execution_count": null,
   "id": "90868b0d",
   "metadata": {},
   "outputs": [],
   "source": []
  },
  {
   "cell_type": "code",
   "execution_count": null,
   "id": "c4621893",
   "metadata": {},
   "outputs": [],
   "source": []
  },
  {
   "cell_type": "code",
   "execution_count": 8,
   "id": "a9d7f10c",
   "metadata": {},
   "outputs": [
    {
     "data": {
      "text/plain": [
       "(array([[177.,   0.,   0.,   0.,   0.,   0.,   0.,   0.,   0.,   0.],\n",
       "        [ 84.,  62.,  19.,   3.,   2.,   3.,   0.,   1.,   1.,   2.]]),\n",
       " array([6.70810289e-02, 3.06824561e+01, 6.12978312e+01, 9.19132064e+01,\n",
       "        1.22528581e+02, 1.53143957e+02, 1.83759332e+02, 2.14374707e+02,\n",
       "        2.44990082e+02, 2.75605457e+02, 3.06220832e+02]),\n",
       " <a list of 2 BarContainer objects>)"
      ]
     },
     "execution_count": 8,
     "metadata": {},
     "output_type": "execute_result"
    },
    {
     "data": {
      "image/png": "[encoded data removed]",
      "text/plain": [
       "<Figure size 720x720 with 1 Axes>"
      ]
     },
     "metadata": {},
     "output_type": "display_data"
    }
   ],
   "source": [
    "x = df[(df.baseline<500)&(df['explanatory AI']<500)]\n",
    "plt.hist(x)"
   ]
  },
  {
   "cell_type": "code",
   "execution_count": null,
   "id": "cf44aa5c",
   "metadata": {},
   "outputs": [],
   "source": []
  },
  {
   "cell_type": "code",
   "execution_count": 35,
   "id": "72dbe602",
   "metadata": {},
   "outputs": [
    {
     "data": {
      "text/html": [
       "<div>\n",
       "<style scoped>\n",
       "    .dataframe tbody tr th:only-of-type {\n",
       "        vertical-align: middle;\n",
       "    }\n",
       "\n",
       "    .dataframe tbody tr th {\n",
       "        vertical-align: top;\n",
       "    }\n",
       "\n",
       "    .dataframe thead th {\n",
       "        text-align: right;\n",
       "    }\n",
       "</style>\n",
       "<table border=\"1\" class=\"dataframe\">\n",
       "  <thead>\n",
       "    <tr style=\"text-align: right;\">\n",
       "      <th></th>\n",
       "      <th>prediction</th>\n",
       "      <th>variable</th>\n",
       "      <th>value</th>\n",
       "    </tr>\n",
       "  </thead>\n",
       "  <tbody>\n",
       "    <tr>\n",
       "      <th>0</th>\n",
       "      <td>0.0</td>\n",
       "      <td>baseline</td>\n",
       "      <td>2.137064</td>\n",
       "    </tr>\n",
       "    <tr>\n",
       "      <th>1</th>\n",
       "      <td>0.0</td>\n",
       "      <td>baseline</td>\n",
       "      <td>2.137064</td>\n",
       "    </tr>\n",
       "    <tr>\n",
       "      <th>2</th>\n",
       "      <td>0.0</td>\n",
       "      <td>baseline</td>\n",
       "      <td>2.137064</td>\n",
       "    </tr>\n",
       "    <tr>\n",
       "      <th>3</th>\n",
       "      <td>0.0</td>\n",
       "      <td>baseline</td>\n",
       "      <td>2.137064</td>\n",
       "    </tr>\n",
       "    <tr>\n",
       "      <th>4</th>\n",
       "      <td>0.0</td>\n",
       "      <td>baseline</td>\n",
       "      <td>2.137064</td>\n",
       "    </tr>\n",
       "  </tbody>\n",
       "</table>\n",
       "</div>"
      ],
      "text/plain": [
       "   prediction  variable     value\n",
       "0         0.0  baseline  2.137064\n",
       "1         0.0  baseline  2.137064\n",
       "2         0.0  baseline  2.137064\n",
       "3         0.0  baseline  2.137064\n",
       "4         0.0  baseline  2.137064"
      ]
     },
     "execution_count": 35,
     "metadata": {},
     "output_type": "execute_result"
    }
   ],
   "source": [
    "x = pd.merge(df, metadata_phase1.set_index('image_id'), left_index=True, right_index=True)\n",
    "x = x[['baseline', 'explanatory AI', 'prediction']]\n",
    "x = pd.melt(x, 'prediction')\n",
    "x.head()"
   ]
  },
  {
   "cell_type": "code",
   "execution_count": 38,
   "id": "cb15b2dd",
   "metadata": {},
   "outputs": [
    {
     "data": {
      "text/plain": [
       "(0.0, 300.0)"
      ]
     },
     "execution_count": 38,
     "metadata": {},
     "output_type": "execute_result"
    },
    {
     "data": {
      "image/png": "[encoded data removed]",
      "text/plain": [
       "<Figure size 720x720 with 1 Axes>"
      ]
     },
     "metadata": {},
     "output_type": "display_data"
    }
   ],
   "source": [
    "sns.boxplot(\n",
    "    data=x, x=\"variable\", y=\"value\", hue=\"prediction\",\n",
    "    dodge=True, zorder=1\n",
    ")\n",
    "plt.ylim(0, 300)"
   ]
  },
  {
   "cell_type": "code",
   "execution_count": null,
   "id": "f8aaa404",
   "metadata": {},
   "outputs": [],
   "source": []
  },
  {
   "cell_type": "code",
   "execution_count": null,
   "id": "7daf0ced",
   "metadata": {},
   "outputs": [],
   "source": []
  }
 ],
 "metadata": {
  "kernelspec": {
   "display_name": "Python 3 (ipykernel)",
   "language": "python",
   "name": "python3"
  },
  "language_info": {
   "codemirror_mode": {
    "name": "ipython",
    "version": 3
   },
   "file_extension": ".py",
   "mimetype": "text/x-python",
   "name": "python",
   "nbconvert_exporter": "python",
   "pygments_lexer": "ipython3",
   "version": "3.9.9"
  }
 },
 "nbformat": 4,
 "nbformat_minor": 5
}
