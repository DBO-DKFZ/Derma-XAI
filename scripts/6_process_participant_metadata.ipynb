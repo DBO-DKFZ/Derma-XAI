{
 "cells": [
  {
   "cell_type": "code",
   "execution_count": 15,
   "id": "852cd207",
   "metadata": {},
   "outputs": [],
   "source": [
    "from sklearn import metrics\n",
    "from scipy import stats\n",
    "import pandas as pd\n",
    "import numpy as np\n",
    "import os\n",
    "import matplotlib.pyplot as plt\n",
    "import seaborn as sns\n",
    "pd.set_option('display.max_columns', 500)\n",
    "pd.set_option('display.max_rows', 100)\n",
    "sns.set()\n",
    "plt.rcParams[\"figure.figsize\"] = (10,10)"
   ]
  },
  {
   "cell_type": "code",
   "execution_count": null,
   "id": "7bbac6f8",
   "metadata": {},
   "outputs": [],
   "source": []
  },
  {
   "cell_type": "code",
   "execution_count": null,
   "id": "167d4fdd",
   "metadata": {},
   "outputs": [],
   "source": []
  },
  {
   "cell_type": "code",
   "execution_count": 42,
   "id": "71562bae",
   "metadata": {},
   "outputs": [],
   "source": [
    "participant_id_column = 'email. Email address'\n",
    "data_path = \"/home/kti01/Documents/My Files/Projects/Overlap/data/phase2/groups\"\n",
    "files = os.listdir(data_path)\n",
    "participant_dict = {\n",
    "    'participant': [],\n",
    "    'position': [],\n",
    "    'years_as_dermatologist': [],\n",
    "    'experience_in_dermoscopy': [],\n",
    "    'years_using_dermoscopy': [],\n",
    "    'country': [],\n",
    "}\n",
    "for file in files:\n",
    "\n",
    "    if not file.endswith('csv'):\n",
    "        continue\n",
    "\n",
    "    data = pd.read_csv(os.path.join(data_path, file)).dropna(subset='submitdate. Date submitted')\n",
    "    for participant in data[participant_id_column]:\n",
    "        \n",
    "        df = data[data[participant_id_column] == participant].iloc[:, 81:].transpose().copy()\n",
    "        participant_dict['participant'].append(participant)\n",
    "        if df.iloc[0].item() != 'Other':\n",
    "            participant_dict['position'].append(df.iloc[0].item())\n",
    "        else:\n",
    "            participant_dict['position'].append(df.iloc[1].item())\n",
    "        participant_dict['years_as_dermatologist'].append(df.iloc[2].item())\n",
    "        participant_dict['experience_in_dermoscopy'].append(df.iloc[4].item())\n",
    "        participant_dict['years_using_dermoscopy'].append(df.iloc[6].item())\n",
    "        participant_dict['country'].append(df.iloc[8].item())\n",
    "      \n",
    "    \n",
    "participant_metadata = pd.DataFrame(participant_dict)\n",
    "\n",
    "# Map participant Emails to Codes defined in participants.csv\n",
    "participants_df = pd.read_csv(\"/home/kti01/Documents/My Files/Projects/Overlap/data/participants.csv\")\n",
    "participants_df['E-Mail'] = participants_df['E-Mail'].apply(lambda x: x.strip() if pd.notna(x) else x)\n",
    "participants_code_dict = dict(zip(participants_df['E-Mail'], participants_df['Code']))\n",
    "\n",
    "participant_metadata['participant'] = participant_metadata.apply(lambda row: participants_code_dict[row['participant']] \n",
    "                                         if row['participant'] in participants_code_dict and \n",
    "                                         pd.notna(participants_code_dict[row['participant']])\n",
    "                                         else row['participant'], axis=1)\n",
    "\n",
    "\n",
    "participant_id_column = 'email'\n",
    "data_path = \"/home/kti01/Documents/My Files/Projects/Overlap/data/phase3/groups\"\n",
    "\n",
    "files = os.listdir(data_path)\n",
    "participant_dict = {\n",
    "    'participant': [],\n",
    "    'xai_preference': [],\n",
    "    'feedback': []\n",
    "}\n",
    "\n",
    "for file in files:\n",
    "\n",
    "    if not file.endswith('csv'):\n",
    "        continue\n",
    "\n",
    "    data = pd.read_csv(os.path.join(data_path, file)).dropna(subset='submitdate')\n",
    "    for participant in data[participant_id_column]:\n",
    "        \n",
    "        df = data[data[participant_id_column] == participant].iloc[:, 81:].transpose().copy()\n",
    "        participant_dict['participant'].append(participant)\n",
    "        participant_dict['xai_preference'].append(df.iloc[0].item())\n",
    "        participant_dict['feedback'].append(df.iloc[1].item())\n",
    "        \n",
    "participant_feedback = pd.DataFrame(participant_dict)\n",
    "participant_metadata['xai_preference'] = participant_feedback['xai_preference'].replace({'Yes': 1, 'Ja': 1, 'No': 0, 'Nein': 0})\n",
    "participant_metadata['feedback'] = participant_feedback['feedback']"
   ]
  },
  {
   "cell_type": "code",
   "execution_count": null,
   "id": "7c5eccf3",
   "metadata": {},
   "outputs": [],
   "source": []
  },
  {
   "cell_type": "code",
   "execution_count": null,
   "id": "5fad3781",
   "metadata": {},
   "outputs": [],
   "source": []
  },
  {
   "cell_type": "code",
   "execution_count": 43,
   "id": "336d9efd",
   "metadata": {},
   "outputs": [],
   "source": [
    "years_as_dermatologist_mapping = {\n",
    "    '5-10 Jahre': '5-10 Years',\n",
    "    '> 10 Jahre': '> 10 Years',\n",
    "    '3-5 Jahre': '3-5 Years',\n",
    "    '1-3 Jahre': '1-3 Years'\n",
    "}\n",
    "\n",
    "experience_in_dermoscopy_mapping = {\n",
    "    'Regelmäßige Nutzung und Weiterbildung': 'Regular use and education',\n",
    "    'Regelmäßige Nutzung': 'Regular use',\n",
    "    'Regelmäßige wissenschaftliche Auseinandersetzung (Papiere, Konferenzen, Lehre, u.ä.)': 'Regular scientific discussion (papers, conferences, teaching, etc.).',\n",
    "    'Gelegentliche Nutzung': 'Occasional use',\n",
    "    'Grundausbildung erhalten, aber seltene Nutzung': 'Basic education received, but rare use'\n",
    "}\n",
    "\n",
    "years_using_dermoscopy_mapping = {\n",
    "    '> 10 Jahre': '> 10 Years',\n",
    "    '5-10 Jahre': '5-10 Years',\n",
    "    '3-5 Jahre': '3-5 Years',\n",
    "    '1-3 Jahre': '1-3 Years',\n",
    "    '< 1 Jahr': '< 1 Year'\n",
    "}\n",
    "\n",
    "participant_metadata['experience_in_dermoscopy'].replace(experience_in_dermoscopy_mapping, inplace=True)\n",
    "participant_metadata['years_as_dermatologist'].replace(years_as_dermatologist_mapping, inplace=True) \n",
    "participant_metadata['years_using_dermoscopy'].replace(years_using_dermoscopy_mapping, inplace=True)"
   ]
  },
  {
   "cell_type": "code",
   "execution_count": null,
   "id": "515ce1d3",
   "metadata": {},
   "outputs": [],
   "source": []
  },
  {
   "cell_type": "code",
   "execution_count": 44,
   "id": "093150a2",
   "metadata": {},
   "outputs": [],
   "source": [
    "participant_metadata.to_csv(\"/home/kti01/Documents/My Files/Projects/Overlap/data/participant_metadata.csv\", index=False)"
   ]
  },
  {
   "cell_type": "code",
   "execution_count": null,
   "id": "d6e4870a",
   "metadata": {},
   "outputs": [],
   "source": []
  },
  {
   "cell_type": "code",
   "execution_count": null,
   "id": "8dd8166c",
   "metadata": {},
   "outputs": [],
   "source": []
  },
  {
   "cell_type": "code",
   "execution_count": null,
   "id": "888bb2a0",
   "metadata": {},
   "outputs": [],
   "source": []
  },
  {
   "cell_type": "code",
   "execution_count": null,
   "id": "8c8f494e",
   "metadata": {},
   "outputs": [],
   "source": []
  },
  {
   "cell_type": "code",
   "execution_count": null,
   "id": "eff39583",
   "metadata": {},
   "outputs": [],
   "source": []
  }
 ],
 "metadata": {
  "kernelspec": {
   "display_name": "Python 3 (ipykernel)",
   "language": "python",
   "name": "python3"
  },
  "language_info": {
   "codemirror_mode": {
    "name": "ipython",
    "version": 3
   },
   "file_extension": ".py",
   "mimetype": "text/x-python",
   "name": "python",
   "nbconvert_exporter": "python",
   "pygments_lexer": "ipython3",
   "version": "3.9.9"
  }
 },
 "nbformat": 4,
 "nbformat_minor": 5
}
